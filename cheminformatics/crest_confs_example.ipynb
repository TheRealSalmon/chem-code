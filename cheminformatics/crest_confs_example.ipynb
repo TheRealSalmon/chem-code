{
 "cells": [
  {
   "cell_type": "code",
   "execution_count": 1,
   "metadata": {},
   "outputs": [],
   "source": [
    "from rdkit import Chem\n",
    "from crest_confs_utils import (get_low_energy_conformer,\n",
    "                               xtb_single_point)"
   ]
  },
  {
   "cell_type": "code",
   "execution_count": 2,
   "metadata": {},
   "outputs": [
    {
     "data": {
      "text/plain": [
       "'-15.458396912411'"
      ]
     },
     "execution_count": 2,
     "metadata": {},
     "output_type": "execute_result"
    }
   ],
   "source": [
    "m = Chem.MolFromSmiles('OCCO')\n",
    "m = get_low_energy_conformer(m)\n",
    "xtb_single_point(m, solvent='h2o')"
   ]
  }
 ],
 "metadata": {
  "interpreter": {
   "hash": "90a32318f890b9de04ab31e43acb86e137fab9dc001494edc26216f526bfe786"
  },
  "kernelspec": {
   "display_name": "Python 3.7.11 ('mol')",
   "language": "python",
   "name": "python3"
  },
  "language_info": {
   "codemirror_mode": {
    "name": "ipython",
    "version": 3
   },
   "file_extension": ".py",
   "mimetype": "text/x-python",
   "name": "python",
   "nbconvert_exporter": "python",
   "pygments_lexer": "ipython3",
   "version": "3.7.11"
  },
  "orig_nbformat": 4
 },
 "nbformat": 4,
 "nbformat_minor": 2
}
