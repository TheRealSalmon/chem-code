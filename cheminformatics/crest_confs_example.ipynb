{
 "cells": [
  {
   "cell_type": "code",
   "execution_count": 3,
   "metadata": {},
   "outputs": [],
   "source": [
    "from rdkit import Chem, Geometry\n",
    "from crest_confs_utils import (get_low_energy_conformer,\n",
    "                               xtbError,\n",
    "                               display_3d_mol,\n",
    "                               xtb_single_point)"
   ]
  },
  {
   "cell_type": "code",
   "execution_count": 4,
   "metadata": {},
   "outputs": [],
   "source": [
    "import subprocess\n",
    "import tempfile"
   ]
  },
  {
   "cell_type": "code",
   "execution_count": 19,
   "metadata": {},
   "outputs": [],
   "source": [
    "def crest_conf_search(input_mol: Chem.rdchem.Mol,\n",
    "                 charge: int = 0,\n",
    "                 e_state: int = 0,\n",
    "                 solvent: str = '',\n",
    "                 mmff_max_iters: int = 200) -> Chem.rdchem.Mol:\n",
    "    # makes sure that there is a conformer embedded in mol\n",
    "    mol = Chem.rdchem.Mol(input_mol)\n",
    "    if len(mol.GetConformers()) == 0:\n",
    "        mol = get_low_energy_conformer(mol, mmff_max_iters)\n",
    "\n",
    "    xtb_xyz = ''\n",
    "    # runs calculations in tmp directory\n",
    "    with tempfile.TemporaryDirectory() as tmp:\n",
    "        # create .xyz file in the tmp directory\n",
    "        Chem.rdmolfiles.MolToXYZFile(mol, f'{tmp}/input.xyz')\n",
    "        # run xtb on the input file\n",
    "        xtb_args = ['-c', str(charge), '-u', str(e_state)]\n",
    "        if solvent != '':\n",
    "            xtb_args += ['-g', solvent]\n",
    "        # proc = subprocess.run(['crest', 'input.xyz'] + xtb_args, \n",
    "        proc = subprocess.run(['crest', 'input.xyz'], \n",
    "                              cwd=tmp,\n",
    "                            #   stdout=subprocess.PIPE,\n",
    "                              stdout=None, \n",
    "                              stderr=subprocess.DEVNULL)\n",
    "        # if proc.returncode != 0:\n",
    "        #     raise xtbError('xtb abnormal termination')\n",
    "        # with open(f'{tmp}/xtbopt.xyz') as file:\n",
    "        #     # first two lines of xyz are atom count and comments\n",
    "        #     # last line is blank\n",
    "        #     xtb_xyz = file.read().split('\\n')[2:len(xtb_xyz)-1]\n",
    "\n",
    "    # # creates a new RDKit Mol with embedded conformer from the xtb xyz output\n",
    "    # mol.RemoveAllConformers()\n",
    "    # conf = Chem.rdchem.Conformer(mol.GetNumAtoms())\n",
    "    # for i, line in enumerate(xtb_xyz):\n",
    "    #     ls = line.split()\n",
    "    #     x, y, z = float(ls[1]), float(ls[2]), float(ls[3])\n",
    "    #     conf.SetAtomPosition(i, Geometry.rdGeometry.Point3D(x, y, z))\n",
    "    # mol.AddConformer(conf)\n",
    "    # return mol"
   ]
  },
  {
   "cell_type": "code",
   "execution_count": 27,
   "metadata": {},
   "outputs": [
    {
     "data": {
      "application/3dmoljs_load.v0": "<div id=\"3dmolviewer_16507345569965\"  style=\"position: relative; width: 640px; height: 480px\">\n        <p id=\"3dmolwarning_16507345569965\" style=\"background-color:#ffcccc;color:black\">You appear to be running in JupyterLab (or JavaScript failed to load for some other reason).  You need to install the 3dmol extension: <br>\n        <tt>jupyter labextension install jupyterlab_3dmol</tt></p>\n        </div>\n<script>\n\nvar loadScriptAsync = function(uri){\n  return new Promise((resolve, reject) => {\n    var tag = document.createElement('script');\n    tag.src = uri;\n    tag.async = true;\n    tag.onload = () => {\n      resolve();\n    };\n  var firstScriptTag = document.getElementsByTagName('script')[0];\n  firstScriptTag.parentNode.insertBefore(tag, firstScriptTag);\n});\n};\n\nif(typeof $3Dmolpromise === 'undefined') {\n$3Dmolpromise = null;\n  $3Dmolpromise = loadScriptAsync('https://3dmol.org/build/3Dmol.js');\n}\n\nvar viewer_16507345569965 = null;\nvar warn = document.getElementById(\"3dmolwarning_16507345569965\");\nif(warn) {\n    warn.parentNode.removeChild(warn);\n}\n$3Dmolpromise.then(function() {\nviewer_16507345569965 = $3Dmol.createViewer($(\"#3dmolviewer_16507345569965\"),{backgroundColor:\"white\"});\nviewer_16507345569965.addModel(\"\\n     RDKit          3D\\n\\n  3  2  0  0  0  0  0  0  0  0999 V2000\\n    0.0058    0.3978    0.0000 O   0  0  0  0  0  0  0  0  0  0  0  0\\n   -0.7663   -0.1878    0.0000 H   0  0  0  0  0  0  0  0  0  0  0  0\\n    0.7605   -0.2100    0.0000 H   0  0  0  0  0  0  0  0  0  0  0  0\\n  1  2  1  0\\n  1  3  1  0\\nM  END\\n\");\nviewer_16507345569965.setStyle({\"stick\": {\"colorscheme\": \"grayCarbon\"}});\nviewer_16507345569965.zoomTo();\nviewer_16507345569965.render();\n});\n</script>",
      "text/html": [
       "<div id=\"3dmolviewer_16507345569965\"  style=\"position: relative; width: 640px; height: 480px\">\n",
       "        <p id=\"3dmolwarning_16507345569965\" style=\"background-color:#ffcccc;color:black\">You appear to be running in JupyterLab (or JavaScript failed to load for some other reason).  You need to install the 3dmol extension: <br>\n",
       "        <tt>jupyter labextension install jupyterlab_3dmol</tt></p>\n",
       "        </div>\n",
       "<script>\n",
       "\n",
       "var loadScriptAsync = function(uri){\n",
       "  return new Promise((resolve, reject) => {\n",
       "    var tag = document.createElement('script');\n",
       "    tag.src = uri;\n",
       "    tag.async = true;\n",
       "    tag.onload = () => {\n",
       "      resolve();\n",
       "    };\n",
       "  var firstScriptTag = document.getElementsByTagName('script')[0];\n",
       "  firstScriptTag.parentNode.insertBefore(tag, firstScriptTag);\n",
       "});\n",
       "};\n",
       "\n",
       "if(typeof $3Dmolpromise === 'undefined') {\n",
       "$3Dmolpromise = null;\n",
       "  $3Dmolpromise = loadScriptAsync('https://3dmol.org/build/3Dmol.js');\n",
       "}\n",
       "\n",
       "var viewer_16507345569965 = null;\n",
       "var warn = document.getElementById(\"3dmolwarning_16507345569965\");\n",
       "if(warn) {\n",
       "    warn.parentNode.removeChild(warn);\n",
       "}\n",
       "$3Dmolpromise.then(function() {\n",
       "viewer_16507345569965 = $3Dmol.createViewer($(\"#3dmolviewer_16507345569965\"),{backgroundColor:\"white\"});\n",
       "viewer_16507345569965.addModel(\"\\n     RDKit          3D\\n\\n  3  2  0  0  0  0  0  0  0  0999 V2000\\n    0.0058    0.3978    0.0000 O   0  0  0  0  0  0  0  0  0  0  0  0\\n   -0.7663   -0.1878    0.0000 H   0  0  0  0  0  0  0  0  0  0  0  0\\n    0.7605   -0.2100    0.0000 H   0  0  0  0  0  0  0  0  0  0  0  0\\n  1  2  1  0\\n  1  3  1  0\\nM  END\\n\");\n",
       "viewer_16507345569965.setStyle({\"stick\": {\"colorscheme\": \"grayCarbon\"}});\n",
       "viewer_16507345569965.zoomTo();\n",
       "viewer_16507345569965.render();\n",
       "});\n",
       "</script>"
      ]
     },
     "metadata": {},
     "output_type": "display_data"
    },
    {
     "name": "stdout",
     "output_type": "stream",
     "text": [
      "3\n",
      "\n",
      "O      0.005785    0.397773    0.000000\n",
      "H     -0.766280   -0.187784    0.000000\n",
      "H      0.760495   -0.209989    0.000000\n",
      "\n"
     ]
    }
   ],
   "source": [
    "m = Chem.MolFromSmiles('O')\n",
    "m = get_low_energy_conformer(m)\n",
    "display_3d_mol(m)\n",
    "print(Chem.MolToXYZBlock(m))"
   ]
  },
  {
   "cell_type": "code",
   "execution_count": 18,
   "metadata": {},
   "outputs": [
    {
     "name": "stdout",
     "output_type": "stream",
     "text": [
      "10\n",
      "\n",
      "O      1.254173    0.729445   -0.388358\n",
      "C      0.547613   -0.343848    0.236398\n",
      "C     -0.868274   -0.383902   -0.324814\n",
      "O     -1.512685    0.863387   -0.071621\n",
      "H      2.146978    0.740096   -0.000482\n",
      "H      0.529984   -0.148747    1.313038\n",
      "H      1.074175   -1.281358    0.037274\n",
      "H     -0.854420   -0.533840   -1.408834\n",
      "H     -1.454454   -1.181005    0.140235\n",
      "H     -0.863089    1.539772   -0.349299\n",
      "\n",
      "\n",
      "       ==============================================\n",
      "       |                                            |\n",
      "       |                 C R E S T                  |\n",
      "       |                                            |\n",
      "       |  Conformer-Rotamer Ensemble Sampling Tool  |\n",
      "       |          based on the GFN methods          |\n",
      "       |             P.Pracht, S.Grimme             |\n",
      "       |          Universitaet Bonn, MCTC           |\n",
      "       ==============================================\n",
      "       Version 2.11.2, Fr 17. Dec 12:10:44 CEST 2021\n",
      "  Using the xTB program. Compatible with xTB version 6.4.0\n",
      "\n",
      "   Cite work conducted with this code as\n",
      "\n",
      "   P. Pracht, F. Bohle, S. Grimme, PCCP, 2020, 22, 7169-7192.\n",
      "\n",
      "   and  S. Grimme, JCTC, 2019, 15, 2847-2862.\n",
      "\n",
      "   with help from:\n",
      "   C.Bannwarth, F.Bohle, S.Ehlert, S.Grimme,\n",
      "   C. Plett, P.Pracht, S. Spicher\n",
      "\n",
      "   This program is distributed in the hope that it will be useful,\n",
      "   but WITHOUT ANY WARRANTY; without even the implied warranty of\n",
      "   MERCHANTABILITY or FITNESS FOR A PARTICULAR PURPOSE.\n",
      "\n",
      " Command line input:\n",
      " > crest input.xyz\n",
      "\n",
      "\n",
      " -------------------------\n",
      " xTB Geometry Optimization\n",
      " -------------------------\n",
      "\n",
      "  Initial geometry optimization failed!\n",
      "  Please check your input.\n"
     ]
    }
   ],
   "source": [
    "# m = Chem.MolFromSmiles('OC(CN1CCN(C2=C(F)C=NC=C2F)CC1)=O')\n",
    "m = Chem.MolFromSmiles('O')\n",
    "m = crest_conf_search(m)\n"
   ]
  },
  {
   "cell_type": "code",
   "execution_count": null,
   "metadata": {},
   "outputs": [],
   "source": []
  }
 ],
 "metadata": {
  "interpreter": {
   "hash": "90a32318f890b9de04ab31e43acb86e137fab9dc001494edc26216f526bfe786"
  },
  "kernelspec": {
   "display_name": "Python 3.7.11 ('mol')",
   "language": "python",
   "name": "python3"
  },
  "language_info": {
   "codemirror_mode": {
    "name": "ipython",
    "version": 3
   },
   "file_extension": ".py",
   "mimetype": "text/x-python",
   "name": "python",
   "nbconvert_exporter": "python",
   "pygments_lexer": "ipython3",
   "version": "3.10.4"
  },
  "orig_nbformat": 4
 },
 "nbformat": 4,
 "nbformat_minor": 2
}
