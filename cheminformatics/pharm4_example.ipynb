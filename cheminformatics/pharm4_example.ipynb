{
 "cells": [
  {
   "cell_type": "code",
   "execution_count": 2,
   "metadata": {},
   "outputs": [],
   "source": [
    "from pharm4 import Pharm4"
   ]
  },
  {
   "cell_type": "code",
   "execution_count": 3,
   "metadata": {},
   "outputs": [
    {
     "data": {
      "application/3dmoljs_load.v0": "<div id=\"3dmolviewer_1650730625532008\"  style=\"position: relative; width: 800px; height: 480px\">\n        <p id=\"3dmolwarning_1650730625532008\" style=\"background-color:#ffcccc;color:black\">You appear to be running in JupyterLab (or JavaScript failed to load for some other reason).  You need to install the 3dmol extension: <br>\n        <tt>jupyter labextension install jupyterlab_3dmol</tt></p>\n        </div>\n<script>\n\nvar loadScriptAsync = function(uri){\n  return new Promise((resolve, reject) => {\n    var tag = document.createElement('script');\n    tag.src = uri;\n    tag.async = true;\n    tag.onload = () => {\n      resolve();\n    };\n  var firstScriptTag = document.getElementsByTagName('script')[0];\n  firstScriptTag.parentNode.insertBefore(tag, firstScriptTag);\n});\n};\n\nif(typeof $3Dmolpromise === 'undefined') {\n$3Dmolpromise = null;\n  $3Dmolpromise = loadScriptAsync('https://3dmol.org/build/3Dmol.js');\n}\n\nvar viewer_1650730625532008 = null;\nvar warn = document.getElementById(\"3dmolwarning_1650730625532008\");\nif(warn) {\n    warn.parentNode.removeChild(warn);\n}\n$3Dmolpromise.then(function() {\nviewer_1650730625532008 = $3Dmol.createViewer($(\"#3dmolviewer_1650730625532008\"),{backgroundColor:\"white\"});\nviewer_1650730625532008.addModel(\"\\n     RDKit          3D\\n\\n 19 20  0  0  0  0  0  0  0  0999 V2000\\n   -5.5482   -0.3725    0.4959 O   0  0  0  0  0  0  0  0  0  0  0  0\\n   -4.3041   -0.7809    0.1542 C   0  0  0  0  0  0  0  0  0  0  0  0\\n   -3.3664    0.4041   -0.0599 C   0  0  0  0  0  0  0  0  0  0  0  0\\n   -1.9777   -0.0095   -0.3626 N   0  0  0  0  0  0  0  0  0  0  0  0\\n   -1.3103   -0.5846    0.8306 C   0  0  0  0  0  0  0  0  0  0  0  0\\n    0.1628   -0.9743    0.5575 C   0  0  0  0  0  0  0  0  0  0  0  0\\n    0.9242    0.1969    0.0699 N   0  0  0  0  0  0  0  0  0  0  0  0\\n    2.3306    0.0943   -0.0149 C   0  0  0  0  0  0  0  0  0  0  0  0\\n    3.1212    1.2482   -0.1799 C   0  0  0  0  0  0  0  0  0  0  0  0\\n    2.5599    2.4666   -0.2441 F   0  0  0  0  0  0  0  0  0  0  0  0\\n    4.5072    1.1583   -0.2464 C   0  0  0  0  0  0  0  0  0  0  0  0\\n    5.1943   -0.0010   -0.1583 N   0  0  0  0  0  0  0  0  0  0  0  0\\n    4.4402   -1.1089    0.0163 C   0  0  0  0  0  0  0  0  0  0  0  0\\n    3.0504   -1.1075    0.0971 C   0  0  0  0  0  0  0  0  0  0  0  0\\n    2.4343   -2.2882    0.2605 F   0  0  0  0  0  0  0  0  0  0  0  0\\n    0.2881    0.8076   -1.1229 C   0  0  0  0  0  0  0  0  0  0  0  0\\n   -1.1910    1.1549   -0.8289 C   0  0  0  0  0  0  0  0  0  0  0  0\\n   -4.0708   -1.9739    0.0521 O   0  0  0  0  0  0  0  0  0  0  0  0\\n   -6.0443   -1.2134    0.5874 H   0  0  0  0  0  0  0  0  0  0  0  0\\n  1  2  1  0\\n  2  3  1  0\\n  3  4  1  0\\n  4  5  1  0\\n  5  6  1  0\\n  6  7  1  0\\n  7  8  1  0\\n  8  9  2  0\\n  9 10  1  0\\n  9 11  1  0\\n 11 12  2  0\\n 12 13  1  0\\n 13 14  2  0\\n 14 15  1  0\\n  7 16  1  0\\n 16 17  1  0\\n  2 18  2  0\\n 17  4  1  0\\n 14  8  1  0\\n  1 19  1  0\\nM  END\\n\");\nviewer_1650730625532008.setStyle({\"stick\": {\"colorscheme\": \"grayCarbon\"}});\nviewer_1650730625532008.zoomTo();\n\tviewer_1650730625532008.addSphere({\"center\": {\"x\": -5.548163165468328, \"y\": -0.3724890128399183, \"z\": 0.4958795009054407}, \"hidden\": false, \"radius\": 0.8, \"scale\": 1, \"color\": \"blue\", \"opacity\": 0.5});\n\tviewer_1650730625532008.addSphere({\"center\": {\"x\": -1.9777163843821162, \"y\": -0.009489589020925818, \"z\": -0.3625806748468769}, \"hidden\": false, \"radius\": 0.8, \"scale\": 1, \"color\": \"blue\", \"opacity\": 0.5});\n\tviewer_1650730625532008.addSphere({\"center\": {\"x\": 5.194312871154203, \"y\": -0.0010191932511897806, \"z\": -0.15828809570551539}, \"hidden\": false, \"radius\": 0.8, \"scale\": 1, \"color\": \"blue\", \"opacity\": 0.5});\n\tviewer_1650730625532008.addSphere({\"center\": {\"x\": -4.070792867689979, \"y\": -1.9739370906247906, \"z\": 0.05214361067756017}, \"hidden\": false, \"radius\": 0.8, \"scale\": 1, \"color\": \"blue\", \"opacity\": 0.5});\n\tviewer_1650730625532008.addSphere({\"center\": {\"x\": 0.9241647040210258, \"y\": 0.19687463477419095, \"z\": 0.0698684408990674}, \"hidden\": false, \"radius\": 0.8, \"scale\": 1, \"color\": \"lightblue\", \"opacity\": 0.5});\n\tviewer_1650730625532008.addSphere({\"center\": {\"x\": 2.5598969349239815, \"y\": 2.466623075246084, \"z\": -0.24406382085101297}, \"hidden\": false, \"radius\": 0.8, \"scale\": 1, \"color\": \"lightblue\", \"opacity\": 0.5});\n\tviewer_1650730625532008.addSphere({\"center\": {\"x\": 2.4342657303126907, \"y\": -2.2881804433200923, \"z\": 0.2605206466450081}, \"hidden\": false, \"radius\": 0.8, \"scale\": 1, \"color\": \"lightblue\", \"opacity\": 0.5});\n\tviewer_1650730625532008.addSphere({\"center\": {\"x\": -5.796239104981579, \"y\": -0.7929515393294349, \"z\": 0.541620768660566}, \"hidden\": false, \"radius\": 0.8, \"scale\": 1, \"color\": \"darkorange\", \"opacity\": 0.5});\n\tviewer_1650730625532008.addSphere({\"center\": {\"x\": -1.9777163843821162, \"y\": -0.009489589020925818, \"z\": -0.3625806748468769}, \"hidden\": false, \"radius\": 0.8, \"scale\": 1, \"color\": \"purple\", \"opacity\": 0.5});\n\tviewer_1650730625532008.addSphere({\"center\": {\"x\": 5.194312871154203, \"y\": -0.0010191932511897806, \"z\": -0.15828809570551539}, \"hidden\": false, \"radius\": 0.8, \"scale\": 1, \"color\": \"purple\", \"opacity\": 0.5});\n\tviewer_1650730625532008.addSphere({\"center\": {\"x\": -5.548163165468328, \"y\": -0.3724890128399183, \"z\": 0.4958795009054407}, \"hidden\": false, \"radius\": 0.8, \"scale\": 1, \"color\": \"black\", \"opacity\": 0.5});\n\tviewer_1650730625532008.addSphere({\"center\": {\"x\": 3.77400693055311, \"y\": 0.04724129582640901, \"z\": -0.08101297282696741}, \"hidden\": false, \"radius\": 1.3, \"scale\": 1, \"color\": \"green\", \"opacity\": 0.5});\nviewer_1650730625532008.render();\n});\n</script>",
      "text/html": [
       "<div id=\"3dmolviewer_1650730625532008\"  style=\"position: relative; width: 800px; height: 480px\">\n",
       "        <p id=\"3dmolwarning_1650730625532008\" style=\"background-color:#ffcccc;color:black\">You appear to be running in JupyterLab (or JavaScript failed to load for some other reason).  You need to install the 3dmol extension: <br>\n",
       "        <tt>jupyter labextension install jupyterlab_3dmol</tt></p>\n",
       "        </div>\n",
       "<script>\n",
       "\n",
       "var loadScriptAsync = function(uri){\n",
       "  return new Promise((resolve, reject) => {\n",
       "    var tag = document.createElement('script');\n",
       "    tag.src = uri;\n",
       "    tag.async = true;\n",
       "    tag.onload = () => {\n",
       "      resolve();\n",
       "    };\n",
       "  var firstScriptTag = document.getElementsByTagName('script')[0];\n",
       "  firstScriptTag.parentNode.insertBefore(tag, firstScriptTag);\n",
       "});\n",
       "};\n",
       "\n",
       "if(typeof $3Dmolpromise === 'undefined') {\n",
       "$3Dmolpromise = null;\n",
       "  $3Dmolpromise = loadScriptAsync('https://3dmol.org/build/3Dmol.js');\n",
       "}\n",
       "\n",
       "var viewer_1650730625532008 = null;\n",
       "var warn = document.getElementById(\"3dmolwarning_1650730625532008\");\n",
       "if(warn) {\n",
       "    warn.parentNode.removeChild(warn);\n",
       "}\n",
       "$3Dmolpromise.then(function() {\n",
       "viewer_1650730625532008 = $3Dmol.createViewer($(\"#3dmolviewer_1650730625532008\"),{backgroundColor:\"white\"});\n",
       "viewer_1650730625532008.addModel(\"\\n     RDKit          3D\\n\\n 19 20  0  0  0  0  0  0  0  0999 V2000\\n   -5.5482   -0.3725    0.4959 O   0  0  0  0  0  0  0  0  0  0  0  0\\n   -4.3041   -0.7809    0.1542 C   0  0  0  0  0  0  0  0  0  0  0  0\\n   -3.3664    0.4041   -0.0599 C   0  0  0  0  0  0  0  0  0  0  0  0\\n   -1.9777   -0.0095   -0.3626 N   0  0  0  0  0  0  0  0  0  0  0  0\\n   -1.3103   -0.5846    0.8306 C   0  0  0  0  0  0  0  0  0  0  0  0\\n    0.1628   -0.9743    0.5575 C   0  0  0  0  0  0  0  0  0  0  0  0\\n    0.9242    0.1969    0.0699 N   0  0  0  0  0  0  0  0  0  0  0  0\\n    2.3306    0.0943   -0.0149 C   0  0  0  0  0  0  0  0  0  0  0  0\\n    3.1212    1.2482   -0.1799 C   0  0  0  0  0  0  0  0  0  0  0  0\\n    2.5599    2.4666   -0.2441 F   0  0  0  0  0  0  0  0  0  0  0  0\\n    4.5072    1.1583   -0.2464 C   0  0  0  0  0  0  0  0  0  0  0  0\\n    5.1943   -0.0010   -0.1583 N   0  0  0  0  0  0  0  0  0  0  0  0\\n    4.4402   -1.1089    0.0163 C   0  0  0  0  0  0  0  0  0  0  0  0\\n    3.0504   -1.1075    0.0971 C   0  0  0  0  0  0  0  0  0  0  0  0\\n    2.4343   -2.2882    0.2605 F   0  0  0  0  0  0  0  0  0  0  0  0\\n    0.2881    0.8076   -1.1229 C   0  0  0  0  0  0  0  0  0  0  0  0\\n   -1.1910    1.1549   -0.8289 C   0  0  0  0  0  0  0  0  0  0  0  0\\n   -4.0708   -1.9739    0.0521 O   0  0  0  0  0  0  0  0  0  0  0  0\\n   -6.0443   -1.2134    0.5874 H   0  0  0  0  0  0  0  0  0  0  0  0\\n  1  2  1  0\\n  2  3  1  0\\n  3  4  1  0\\n  4  5  1  0\\n  5  6  1  0\\n  6  7  1  0\\n  7  8  1  0\\n  8  9  2  0\\n  9 10  1  0\\n  9 11  1  0\\n 11 12  2  0\\n 12 13  1  0\\n 13 14  2  0\\n 14 15  1  0\\n  7 16  1  0\\n 16 17  1  0\\n  2 18  2  0\\n 17  4  1  0\\n 14  8  1  0\\n  1 19  1  0\\nM  END\\n\");\n",
       "viewer_1650730625532008.setStyle({\"stick\": {\"colorscheme\": \"grayCarbon\"}});\n",
       "viewer_1650730625532008.zoomTo();\n",
       "\tviewer_1650730625532008.addSphere({\"center\": {\"x\": -5.548163165468328, \"y\": -0.3724890128399183, \"z\": 0.4958795009054407}, \"hidden\": false, \"radius\": 0.8, \"scale\": 1, \"color\": \"blue\", \"opacity\": 0.5});\n",
       "\tviewer_1650730625532008.addSphere({\"center\": {\"x\": -1.9777163843821162, \"y\": -0.009489589020925818, \"z\": -0.3625806748468769}, \"hidden\": false, \"radius\": 0.8, \"scale\": 1, \"color\": \"blue\", \"opacity\": 0.5});\n",
       "\tviewer_1650730625532008.addSphere({\"center\": {\"x\": 5.194312871154203, \"y\": -0.0010191932511897806, \"z\": -0.15828809570551539}, \"hidden\": false, \"radius\": 0.8, \"scale\": 1, \"color\": \"blue\", \"opacity\": 0.5});\n",
       "\tviewer_1650730625532008.addSphere({\"center\": {\"x\": -4.070792867689979, \"y\": -1.9739370906247906, \"z\": 0.05214361067756017}, \"hidden\": false, \"radius\": 0.8, \"scale\": 1, \"color\": \"blue\", \"opacity\": 0.5});\n",
       "\tviewer_1650730625532008.addSphere({\"center\": {\"x\": 0.9241647040210258, \"y\": 0.19687463477419095, \"z\": 0.0698684408990674}, \"hidden\": false, \"radius\": 0.8, \"scale\": 1, \"color\": \"lightblue\", \"opacity\": 0.5});\n",
       "\tviewer_1650730625532008.addSphere({\"center\": {\"x\": 2.5598969349239815, \"y\": 2.466623075246084, \"z\": -0.24406382085101297}, \"hidden\": false, \"radius\": 0.8, \"scale\": 1, \"color\": \"lightblue\", \"opacity\": 0.5});\n",
       "\tviewer_1650730625532008.addSphere({\"center\": {\"x\": 2.4342657303126907, \"y\": -2.2881804433200923, \"z\": 0.2605206466450081}, \"hidden\": false, \"radius\": 0.8, \"scale\": 1, \"color\": \"lightblue\", \"opacity\": 0.5});\n",
       "\tviewer_1650730625532008.addSphere({\"center\": {\"x\": -5.796239104981579, \"y\": -0.7929515393294349, \"z\": 0.541620768660566}, \"hidden\": false, \"radius\": 0.8, \"scale\": 1, \"color\": \"darkorange\", \"opacity\": 0.5});\n",
       "\tviewer_1650730625532008.addSphere({\"center\": {\"x\": -1.9777163843821162, \"y\": -0.009489589020925818, \"z\": -0.3625806748468769}, \"hidden\": false, \"radius\": 0.8, \"scale\": 1, \"color\": \"purple\", \"opacity\": 0.5});\n",
       "\tviewer_1650730625532008.addSphere({\"center\": {\"x\": 5.194312871154203, \"y\": -0.0010191932511897806, \"z\": -0.15828809570551539}, \"hidden\": false, \"radius\": 0.8, \"scale\": 1, \"color\": \"purple\", \"opacity\": 0.5});\n",
       "\tviewer_1650730625532008.addSphere({\"center\": {\"x\": -5.548163165468328, \"y\": -0.3724890128399183, \"z\": 0.4958795009054407}, \"hidden\": false, \"radius\": 0.8, \"scale\": 1, \"color\": \"black\", \"opacity\": 0.5});\n",
       "\tviewer_1650730625532008.addSphere({\"center\": {\"x\": 3.77400693055311, \"y\": 0.04724129582640901, \"z\": -0.08101297282696741}, \"hidden\": false, \"radius\": 1.3, \"scale\": 1, \"color\": \"green\", \"opacity\": 0.5});\n",
       "viewer_1650730625532008.render();\n",
       "});\n",
       "</script>"
      ]
     },
     "metadata": {},
     "output_type": "display_data"
    }
   ],
   "source": [
    "p4 = Pharm4.Pharm4FromSmiles('OC(CN1CCN(C2=C(F)C=NC=C2F)CC1)=O')\n",
    "p4.DisplayPharm4()"
   ]
  }
 ],
 "metadata": {
  "interpreter": {
   "hash": "90a32318f890b9de04ab31e43acb86e137fab9dc001494edc26216f526bfe786"
  },
  "kernelspec": {
   "display_name": "Python 3.7.11 ('mol')",
   "language": "python",
   "name": "python3"
  },
  "language_info": {
   "codemirror_mode": {
    "name": "ipython",
    "version": 3
   },
   "file_extension": ".py",
   "mimetype": "text/x-python",
   "name": "python",
   "nbconvert_exporter": "python",
   "pygments_lexer": "ipython3",
   "version": "3.10.4"
  },
  "orig_nbformat": 4
 },
 "nbformat": 4,
 "nbformat_minor": 2
}
