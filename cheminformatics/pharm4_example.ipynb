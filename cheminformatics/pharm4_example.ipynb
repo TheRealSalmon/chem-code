{
 "cells": [
  {
   "cell_type": "code",
   "execution_count": 1,
   "metadata": {},
   "outputs": [],
   "source": [
    "from pharm4 import Pharm4"
   ]
  },
  {
   "cell_type": "code",
   "execution_count": 2,
   "metadata": {},
   "outputs": [
    {
     "data": {
      "application/3dmoljs_load.v0": "<div id=\"3dmolviewer_16468514498407006\"  style=\"position: relative; width: 800px; height: 480px\">\n        <p id=\"3dmolwarning_16468514498407006\" style=\"background-color:#ffcccc;color:black\">You appear to be running in JupyterLab (or JavaScript failed to load for some other reason).  You need to install the 3dmol extension: <br>\n        <tt>jupyter labextension install jupyterlab_3dmol</tt></p>\n        </div>\n<script>\n\nvar loadScriptAsync = function(uri){\n  return new Promise((resolve, reject) => {\n    var tag = document.createElement('script');\n    tag.src = uri;\n    tag.async = true;\n    tag.onload = () => {\n      resolve();\n    };\n  var firstScriptTag = document.getElementsByTagName('script')[0];\n  firstScriptTag.parentNode.insertBefore(tag, firstScriptTag);\n});\n};\n\nif(typeof $3Dmolpromise === 'undefined') {\n$3Dmolpromise = null;\n  $3Dmolpromise = loadScriptAsync('https://3dmol.org/build/3Dmol.js');\n}\n\nvar viewer_16468514498407006 = null;\nvar warn = document.getElementById(\"3dmolwarning_16468514498407006\");\nif(warn) {\n    warn.parentNode.removeChild(warn);\n}\n$3Dmolpromise.then(function() {\nviewer_16468514498407006 = $3Dmol.createViewer($(\"#3dmolviewer_16468514498407006\"),{backgroundColor:\"white\"});\nviewer_16468514498407006.addModel(\"\\n     RDKit          3D\\n\\n 19 20  0  0  0  0  0  0  0  0999 V2000\\n   -5.5411   -0.3617    0.5701 O   0  0  0  0  0  0  0  0  0  0  0  0\\n   -4.3033   -0.7698    0.2059 C   0  0  0  0  0  0  0  0  0  0  0  0\\n   -3.3648    0.4148   -0.0071 C   0  0  0  0  0  0  0  0  0  0  0  0\\n   -1.9820    0.0006   -0.3345 N   0  0  0  0  0  0  0  0  0  0  0  0\\n   -1.2996   -0.5912    0.8420 C   0  0  0  0  0  0  0  0  0  0  0  0\\n    0.1682   -0.9822    0.5432 C   0  0  0  0  0  0  0  0  0  0  0  0\\n    0.9264    0.1925    0.0591 N   0  0  0  0  0  0  0  0  0  0  0  0\\n    2.3312    0.0865   -0.0469 C   0  0  0  0  0  0  0  0  0  0  0  0\\n    3.1232    1.2399   -0.2090 C   0  0  0  0  0  0  0  0  0  0  0  0\\n    2.5651    2.4608   -0.2503 F   0  0  0  0  0  0  0  0  0  0  0  0\\n    4.5078    1.1464   -0.2964 C   0  0  0  0  0  0  0  0  0  0  0  0\\n    5.1922   -0.0161   -0.2322 N   0  0  0  0  0  0  0  0  0  0  0  0\\n    4.4370   -1.1236   -0.0605 C   0  0  0  0  0  0  0  0  0  0  0  0\\n    3.0485   -1.1188    0.0401 C   0  0  0  0  0  0  0  0  0  0  0  0\\n    2.4308   -2.2995    0.1978 F   0  0  0  0  0  0  0  0  0  0  0  0\\n    0.2755    0.8198   -1.1170 C   0  0  0  0  0  0  0  0  0  0  0  0\\n   -1.1981    1.1682   -0.7977 C   0  0  0  0  0  0  0  0  0  0  0  0\\n   -4.0754   -1.9623    0.0861 O   0  0  0  0  0  0  0  0  0  0  0  0\\n   -6.0386   -1.2022    0.6584 H   0  0  0  0  0  0  0  0  0  0  0  0\\n  1  2  1  0\\n  2  3  1  0\\n  3  4  1  0\\n  4  5  1  0\\n  5  6  1  0\\n  6  7  1  0\\n  7  8  1  0\\n  8  9  2  0\\n  9 10  1  0\\n  9 11  1  0\\n 11 12  2  0\\n 12 13  1  0\\n 13 14  2  0\\n 14 15  1  0\\n  7 16  1  0\\n 16 17  1  0\\n  2 18  2  0\\n 17  4  1  0\\n 14  8  1  0\\n  1 19  1  0\\nM  END\\n\");\nviewer_16468514498407006.setStyle({\"stick\": {\"colorscheme\": \"grayCarbon\"}});\nviewer_16468514498407006.zoomTo();\n\tviewer_16468514498407006.addSphere({\"center\": {\"x\": -5.541080930311056, \"y\": -0.36172569505495555, \"z\": 0.5701062565331566}, \"hidden\": false, \"radius\": 0.8, \"scale\": 1, \"color\": \"blue\", \"opacity\": 0.5});\n\tviewer_16468514498407006.addSphere({\"center\": {\"x\": -1.981964555048347, \"y\": 0.0005658064428482848, \"z\": -0.3344996361463285}, \"hidden\": false, \"radius\": 0.8, \"scale\": 1, \"color\": \"blue\", \"opacity\": 0.5});\n\tviewer_16468514498407006.addSphere({\"center\": {\"x\": 5.192216423844255, \"y\": -0.016061012398933774, \"z\": -0.2322358025850023}, \"hidden\": false, \"radius\": 0.8, \"scale\": 1, \"color\": \"blue\", \"opacity\": 0.5});\n\tviewer_16468514498407006.addSphere({\"center\": {\"x\": -4.075410452182145, \"y\": -1.962253690860261, \"z\": 0.08609925676767125}, \"hidden\": false, \"radius\": 0.8, \"scale\": 1, \"color\": \"blue\", \"opacity\": 0.5});\n\tviewer_16468514498407006.addSphere({\"center\": {\"x\": 0.9264239547486193, \"y\": 0.19249788616672625, \"z\": 0.05912686531347691}, \"hidden\": false, \"radius\": 0.8, \"scale\": 1, \"color\": \"lightblue\", \"opacity\": 0.5});\n\tviewer_16468514498407006.addSphere({\"center\": {\"x\": 2.5650795835823748, \"y\": 2.460753027235521, \"z\": -0.25028776368653577}, \"hidden\": false, \"radius\": 0.8, \"scale\": 1, \"color\": \"lightblue\", \"opacity\": 0.5});\n\tviewer_16468514498407006.addSphere({\"center\": {\"x\": 2.4307932991256758, \"y\": -2.299476236047997, \"z\": 0.19781192087065635}, \"hidden\": false, \"radius\": 0.8, \"scale\": 1, \"color\": \"lightblue\", \"opacity\": 0.5});\n\tviewer_16468514498407006.addSphere({\"center\": {\"x\": -5.789860869279211, \"y\": -0.7819428571230431, \"z\": 0.6142634830057434}, \"hidden\": false, \"radius\": 0.8, \"scale\": 1, \"color\": \"darkorange\", \"opacity\": 0.5});\n\tviewer_16468514498407006.addSphere({\"center\": {\"x\": -1.981964555048347, \"y\": 0.0005658064428482848, \"z\": -0.3344996361463285}, \"hidden\": false, \"radius\": 0.8, \"scale\": 1, \"color\": \"purple\", \"opacity\": 0.5});\n\tviewer_16468514498407006.addSphere({\"center\": {\"x\": 5.192216423844255, \"y\": -0.016061012398933774, \"z\": -0.2322358025850023}, \"hidden\": false, \"radius\": 0.8, \"scale\": 1, \"color\": \"purple\", \"opacity\": 0.5});\n\tviewer_16468514498407006.addSphere({\"center\": {\"x\": -5.541080930311056, \"y\": -0.36172569505495555, \"z\": 0.5701062565331566}, \"hidden\": false, \"radius\": 0.8, \"scale\": 1, \"color\": \"black\", \"opacity\": 0.5});\n\tviewer_16468514498407006.addSphere({\"center\": {\"x\": 3.773322410916131, \"y\": 0.03573166056859053, \"z\": -0.1341458781190123}, \"hidden\": false, \"radius\": 1.3, \"scale\": 1, \"color\": \"green\", \"opacity\": 0.5});\nviewer_16468514498407006.render();\n});\n</script>",
      "text/html": [
       "<div id=\"3dmolviewer_16468514498407006\"  style=\"position: relative; width: 800px; height: 480px\">\n",
       "        <p id=\"3dmolwarning_16468514498407006\" style=\"background-color:#ffcccc;color:black\">You appear to be running in JupyterLab (or JavaScript failed to load for some other reason).  You need to install the 3dmol extension: <br>\n",
       "        <tt>jupyter labextension install jupyterlab_3dmol</tt></p>\n",
       "        </div>\n",
       "<script>\n",
       "\n",
       "var loadScriptAsync = function(uri){\n",
       "  return new Promise((resolve, reject) => {\n",
       "    var tag = document.createElement('script');\n",
       "    tag.src = uri;\n",
       "    tag.async = true;\n",
       "    tag.onload = () => {\n",
       "      resolve();\n",
       "    };\n",
       "  var firstScriptTag = document.getElementsByTagName('script')[0];\n",
       "  firstScriptTag.parentNode.insertBefore(tag, firstScriptTag);\n",
       "});\n",
       "};\n",
       "\n",
       "if(typeof $3Dmolpromise === 'undefined') {\n",
       "$3Dmolpromise = null;\n",
       "  $3Dmolpromise = loadScriptAsync('https://3dmol.org/build/3Dmol.js');\n",
       "}\n",
       "\n",
       "var viewer_16468514498407006 = null;\n",
       "var warn = document.getElementById(\"3dmolwarning_16468514498407006\");\n",
       "if(warn) {\n",
       "    warn.parentNode.removeChild(warn);\n",
       "}\n",
       "$3Dmolpromise.then(function() {\n",
       "viewer_16468514498407006 = $3Dmol.createViewer($(\"#3dmolviewer_16468514498407006\"),{backgroundColor:\"white\"});\n",
       "viewer_16468514498407006.addModel(\"\\n     RDKit          3D\\n\\n 19 20  0  0  0  0  0  0  0  0999 V2000\\n   -5.5411   -0.3617    0.5701 O   0  0  0  0  0  0  0  0  0  0  0  0\\n   -4.3033   -0.7698    0.2059 C   0  0  0  0  0  0  0  0  0  0  0  0\\n   -3.3648    0.4148   -0.0071 C   0  0  0  0  0  0  0  0  0  0  0  0\\n   -1.9820    0.0006   -0.3345 N   0  0  0  0  0  0  0  0  0  0  0  0\\n   -1.2996   -0.5912    0.8420 C   0  0  0  0  0  0  0  0  0  0  0  0\\n    0.1682   -0.9822    0.5432 C   0  0  0  0  0  0  0  0  0  0  0  0\\n    0.9264    0.1925    0.0591 N   0  0  0  0  0  0  0  0  0  0  0  0\\n    2.3312    0.0865   -0.0469 C   0  0  0  0  0  0  0  0  0  0  0  0\\n    3.1232    1.2399   -0.2090 C   0  0  0  0  0  0  0  0  0  0  0  0\\n    2.5651    2.4608   -0.2503 F   0  0  0  0  0  0  0  0  0  0  0  0\\n    4.5078    1.1464   -0.2964 C   0  0  0  0  0  0  0  0  0  0  0  0\\n    5.1922   -0.0161   -0.2322 N   0  0  0  0  0  0  0  0  0  0  0  0\\n    4.4370   -1.1236   -0.0605 C   0  0  0  0  0  0  0  0  0  0  0  0\\n    3.0485   -1.1188    0.0401 C   0  0  0  0  0  0  0  0  0  0  0  0\\n    2.4308   -2.2995    0.1978 F   0  0  0  0  0  0  0  0  0  0  0  0\\n    0.2755    0.8198   -1.1170 C   0  0  0  0  0  0  0  0  0  0  0  0\\n   -1.1981    1.1682   -0.7977 C   0  0  0  0  0  0  0  0  0  0  0  0\\n   -4.0754   -1.9623    0.0861 O   0  0  0  0  0  0  0  0  0  0  0  0\\n   -6.0386   -1.2022    0.6584 H   0  0  0  0  0  0  0  0  0  0  0  0\\n  1  2  1  0\\n  2  3  1  0\\n  3  4  1  0\\n  4  5  1  0\\n  5  6  1  0\\n  6  7  1  0\\n  7  8  1  0\\n  8  9  2  0\\n  9 10  1  0\\n  9 11  1  0\\n 11 12  2  0\\n 12 13  1  0\\n 13 14  2  0\\n 14 15  1  0\\n  7 16  1  0\\n 16 17  1  0\\n  2 18  2  0\\n 17  4  1  0\\n 14  8  1  0\\n  1 19  1  0\\nM  END\\n\");\n",
       "viewer_16468514498407006.setStyle({\"stick\": {\"colorscheme\": \"grayCarbon\"}});\n",
       "viewer_16468514498407006.zoomTo();\n",
       "\tviewer_16468514498407006.addSphere({\"center\": {\"x\": -5.541080930311056, \"y\": -0.36172569505495555, \"z\": 0.5701062565331566}, \"hidden\": false, \"radius\": 0.8, \"scale\": 1, \"color\": \"blue\", \"opacity\": 0.5});\n",
       "\tviewer_16468514498407006.addSphere({\"center\": {\"x\": -1.981964555048347, \"y\": 0.0005658064428482848, \"z\": -0.3344996361463285}, \"hidden\": false, \"radius\": 0.8, \"scale\": 1, \"color\": \"blue\", \"opacity\": 0.5});\n",
       "\tviewer_16468514498407006.addSphere({\"center\": {\"x\": 5.192216423844255, \"y\": -0.016061012398933774, \"z\": -0.2322358025850023}, \"hidden\": false, \"radius\": 0.8, \"scale\": 1, \"color\": \"blue\", \"opacity\": 0.5});\n",
       "\tviewer_16468514498407006.addSphere({\"center\": {\"x\": -4.075410452182145, \"y\": -1.962253690860261, \"z\": 0.08609925676767125}, \"hidden\": false, \"radius\": 0.8, \"scale\": 1, \"color\": \"blue\", \"opacity\": 0.5});\n",
       "\tviewer_16468514498407006.addSphere({\"center\": {\"x\": 0.9264239547486193, \"y\": 0.19249788616672625, \"z\": 0.05912686531347691}, \"hidden\": false, \"radius\": 0.8, \"scale\": 1, \"color\": \"lightblue\", \"opacity\": 0.5});\n",
       "\tviewer_16468514498407006.addSphere({\"center\": {\"x\": 2.5650795835823748, \"y\": 2.460753027235521, \"z\": -0.25028776368653577}, \"hidden\": false, \"radius\": 0.8, \"scale\": 1, \"color\": \"lightblue\", \"opacity\": 0.5});\n",
       "\tviewer_16468514498407006.addSphere({\"center\": {\"x\": 2.4307932991256758, \"y\": -2.299476236047997, \"z\": 0.19781192087065635}, \"hidden\": false, \"radius\": 0.8, \"scale\": 1, \"color\": \"lightblue\", \"opacity\": 0.5});\n",
       "\tviewer_16468514498407006.addSphere({\"center\": {\"x\": -5.789860869279211, \"y\": -0.7819428571230431, \"z\": 0.6142634830057434}, \"hidden\": false, \"radius\": 0.8, \"scale\": 1, \"color\": \"darkorange\", \"opacity\": 0.5});\n",
       "\tviewer_16468514498407006.addSphere({\"center\": {\"x\": -1.981964555048347, \"y\": 0.0005658064428482848, \"z\": -0.3344996361463285}, \"hidden\": false, \"radius\": 0.8, \"scale\": 1, \"color\": \"purple\", \"opacity\": 0.5});\n",
       "\tviewer_16468514498407006.addSphere({\"center\": {\"x\": 5.192216423844255, \"y\": -0.016061012398933774, \"z\": -0.2322358025850023}, \"hidden\": false, \"radius\": 0.8, \"scale\": 1, \"color\": \"purple\", \"opacity\": 0.5});\n",
       "\tviewer_16468514498407006.addSphere({\"center\": {\"x\": -5.541080930311056, \"y\": -0.36172569505495555, \"z\": 0.5701062565331566}, \"hidden\": false, \"radius\": 0.8, \"scale\": 1, \"color\": \"black\", \"opacity\": 0.5});\n",
       "\tviewer_16468514498407006.addSphere({\"center\": {\"x\": 3.773322410916131, \"y\": 0.03573166056859053, \"z\": -0.1341458781190123}, \"hidden\": false, \"radius\": 1.3, \"scale\": 1, \"color\": \"green\", \"opacity\": 0.5});\n",
       "viewer_16468514498407006.render();\n",
       "});\n",
       "</script>"
      ]
     },
     "metadata": {},
     "output_type": "display_data"
    }
   ],
   "source": [
    "p4 = Pharm4.Pharm4FromSmiles('OC(CN1CCN(C2=C(F)C=NC=C2F)CC1)=O')\n",
    "p4.DisplayPharm4()"
   ]
  }
 ],
 "metadata": {
  "interpreter": {
   "hash": "90a32318f890b9de04ab31e43acb86e137fab9dc001494edc26216f526bfe786"
  },
  "kernelspec": {
   "display_name": "Python 3.7.11 ('mol')",
   "language": "python",
   "name": "python3"
  },
  "language_info": {
   "codemirror_mode": {
    "name": "ipython",
    "version": 3
   },
   "file_extension": ".py",
   "mimetype": "text/x-python",
   "name": "python",
   "nbconvert_exporter": "python",
   "pygments_lexer": "ipython3",
   "version": "3.7.11"
  },
  "orig_nbformat": 4
 },
 "nbformat": 4,
 "nbformat_minor": 2
}
